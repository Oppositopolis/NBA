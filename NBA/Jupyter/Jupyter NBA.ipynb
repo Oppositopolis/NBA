{
 "cells": [
  {
   "cell_type": "code",
   "execution_count": null,
   "metadata": {},
   "outputs": [],
   "source": [
    "# Import necessary libraries\n",
    "from nba_api.stats.endpoints import leaguegamefinder, boxscoretraditionalv2\n",
    "from nba_api.stats.static import teams\n",
    "import pandas as pd\n",
    "from tqdm.notebook import tqdm\n",
    "import tkinter as tk\n",
    "from tkinter import messagebox, filedialog\n",
    "import threading\n"
   ]
  },
  {
   "cell_type": "code",
   "execution_count": null,
   "metadata": {},
   "outputs": [],
   "source": [
    "def get_nba_team_ids():\n",
    "    \"\"\"Fetch all NBA team IDs and names.\"\"\"\n",
    "    nba_teams = teams.get_teams()\n",
    "    return {team['id']: team['full_name'] for team in nba_teams}\n",
    "\n",
    "def fetch_games_for_team(team_id, season='2023-24'):\n",
    "    \"\"\"Fetch all games for a given team.\"\"\"\n",
    "    gamefinder = leaguegamefinder.LeagueGameFinder(team_id_nullable=team_id, season_nullable=season)\n",
    "    games = gamefinder.get_data_frames()[0]\n",
    "    return games\n",
    "\n",
    "def fetch_box_scores(game_id):\n",
    "    \"\"\"Fetch box score data for a given game ID.\"\"\"\n",
    "    boxscore = boxscoretraditionalv2.BoxScoreTraditionalV2(game_id=game_id)\n",
    "    player_stats = boxscore.player_stats.get_data_frame()\n",
    "    return player_stats\n",
    "\n",
    "def calculate_position_averages(team_id, season='2023-24'):\n",
    "    \"\"\"Calculate average points scored by positions against a team.\"\"\"\n",
    "    games = fetch_games_for_team(team_id, season)\n",
    "    position_scores = {'PG': [], 'SG': [], 'SF': [], 'PF': [], 'C': []}\n",
    "\n",
    "    for _, game in tqdm(games.iterrows(), total=len(games), desc=f\"Processing games for team ID {team_id}\"):\n",
    "        game_id = game['GAME_ID']\n",
    "        box_scores = fetch_box_scores(game_id)\n",
    "\n",
    "        # Filter for opponents' players only\n",
    "        opponent_stats = box_scores[box_scores['TEAM_ID'] != team_id]\n",
    "\n",
    "        # Approximate positions based on player names (PG, SG, SF, PF, C)\n",
    "        for _, player in opponent_stats.iterrows():\n",
    "            position = player['START_POSITION']\n",
    "            if position in position_scores:\n",
    "                position_scores[position].append(player['PTS'])\n",
    "\n",
    "    # Calculate average points for each position\n",
    "    position_averages = {pos: (sum(scores) / len(scores)) if scores else 0 for pos, scores in position_scores.items()}\n",
    "    return position_averages\n",
    "\n",
    "def fetch_and_save_data(season, output_file):\n",
    "    \"\"\"Fetch data for all teams and save it.\"\"\"\n",
    "    team_ids = get_nba_team_ids()\n",
    "    all_team_data = []\n",
    "\n",
    "    for team_id, team_name in team_ids.items():\n",
    "        print(f\"Calculating for {team_name}...\")\n",
    "        averages = calculate_position_averages(team_id, season)\n",
    "        averages['Team'] = team_name\n",
    "        all_team_data.append(averages)\n",
    "\n",
    "    # Convert results to a DataFrame\n",
    "    df = pd.DataFrame(all_team_data)\n",
    "    df.to_csv(output_file, index=False)\n",
    "    return df\n"
   ]
  },
  {
   "cell_type": "code",
   "execution_count": null,
   "metadata": {},
   "outputs": [],
   "source": [
    "def run_analysis():\n",
    "    \"\"\"Run the analysis based on user inputs.\"\"\"\n",
    "    season = season_entry.get()\n",
    "    output_file = filedialog.asksaveasfilename(defaultextension=\".csv\", filetypes=[(\"CSV files\", \"*.csv\")])\n",
    "\n",
    "    if not season or not output_file:\n",
    "        messagebox.showerror(\"Error\", \"Please enter a valid season and output file path!\")\n",
    "        return\n",
    "\n",
    "    def process():\n",
    "        try:\n",
    "            messagebox.showinfo(\"Processing\", \"Fetching data. This may take a while...\")\n",
    "            fetch_and_save_data(season, output_file)\n",
    "            messagebox.showinfo(\"Success\", f\"Data saved to {output_file}\")\n",
    "        except Exception as e:\n",
    "            messagebox.showerror(\"Error\", str(e))\n",
    "\n",
    "    threading.Thread(target=process).start()\n"
   ]
  },
  {
   "cell_type": "code",
   "execution_count": null,
   "metadata": {},
   "outputs": [],
   "source": [
    "# Manual Execution (Optional)\n",
    "season = '2023-24'\n",
    "output_file = 'nba_team_position_averages.csv'\n",
    "fetch_and_save_data(season, output_file)\n",
    "print(f\"Data saved to {output_file}\")\n"
   ]
  }
 ],
 "metadata": {
  "language_info": {
   "name": "python"
  }
 },
 "nbformat": 4,
 "nbformat_minor": 2
}
